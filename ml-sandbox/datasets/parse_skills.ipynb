{
 "cells": [
  {
   "cell_type": "code",
   "execution_count": 38,
   "metadata": {},
   "outputs": [],
   "source": [
    "import os\n",
    "import json\n",
    "import collections"
   ]
  },
  {
   "cell_type": "code",
   "execution_count": 39,
   "metadata": {},
   "outputs": [
    {
     "name": "stdout",
     "output_type": "stream",
     "text": [
      "4544\n"
     ]
    },
    {
     "ename": "TypeError",
     "evalue": "string indices must be integers",
     "output_type": "error",
     "traceback": [
      "\u001B[1;31m---------------------------------------------------------------------------\u001B[0m",
      "\u001B[1;31mTypeError\u001B[0m                                 Traceback (most recent call last)",
      "\u001B[1;32m<ipython-input-39-f1a576d9f440>\u001B[0m in \u001B[0;36m<module>\u001B[1;34m\u001B[0m\n\u001B[0;32m      9\u001B[0m \u001B[1;32mfor\u001B[0m \u001B[0mresume\u001B[0m \u001B[1;32min\u001B[0m \u001B[0mresumes\u001B[0m\u001B[1;33m:\u001B[0m\u001B[1;33m\u001B[0m\u001B[1;33m\u001B[0m\u001B[0m\n\u001B[0;32m     10\u001B[0m     \u001B[1;32mfor\u001B[0m \u001B[0mskill\u001B[0m \u001B[1;32min\u001B[0m \u001B[0mresume\u001B[0m\u001B[1;33m[\u001B[0m\u001B[1;34m'skill_set'\u001B[0m\u001B[1;33m]\u001B[0m\u001B[1;33m:\u001B[0m\u001B[1;33m\u001B[0m\u001B[1;33m\u001B[0m\u001B[0m\n\u001B[1;32m---> 11\u001B[1;33m         \u001B[1;32mif\u001B[0m \u001B[1;33m(\u001B[0m\u001B[0mskill\u001B[0m\u001B[1;33m[\u001B[0m\u001B[1;34m'name'\u001B[0m\u001B[1;33m]\u001B[0m \u001B[1;32min\u001B[0m \u001B[0mall_skills\u001B[0m\u001B[1;33m)\u001B[0m\u001B[1;33m:\u001B[0m\u001B[1;33m\u001B[0m\u001B[1;33m\u001B[0m\u001B[0m\n\u001B[0m\u001B[0;32m     12\u001B[0m             \u001B[0mall_skills\u001B[0m\u001B[1;33m[\u001B[0m\u001B[0mskill\u001B[0m\u001B[1;33m[\u001B[0m\u001B[1;34m'name'\u001B[0m\u001B[1;33m]\u001B[0m\u001B[1;33m]\u001B[0m \u001B[1;33m=\u001B[0m \u001B[0mall_skills\u001B[0m\u001B[1;33m[\u001B[0m\u001B[0mskill\u001B[0m\u001B[1;33m[\u001B[0m\u001B[1;34m'name'\u001B[0m\u001B[1;33m]\u001B[0m\u001B[1;33m]\u001B[0m \u001B[1;33m+\u001B[0m \u001B[1;36m1\u001B[0m\u001B[1;33m\u001B[0m\u001B[1;33m\u001B[0m\u001B[0m\n\u001B[0;32m     13\u001B[0m \u001B[1;33m\u001B[0m\u001B[0m\n",
      "\u001B[1;31mTypeError\u001B[0m: string indices must be integers"
     ]
    }
   ],
   "source": [
    "f = open(f\"./flatten_resumes.json\", encoding=\"utf8\")\n",
    "jsonText = f.read()\n",
    "f.close()\n",
    "resumes = json.loads(jsonText)\n",
    "print(len(resumes))\n",
    "\n",
    "all_skills = {}\n",
    "\n",
    "for resume in resumes:\n",
    "    for skill in resume['skill_set']:\n",
    "        if (skill in all_skills):\n",
    "            all_skills[skill] = all_skills[skill] + 1\n",
    "\n",
    "        else:\n",
    "            all_skills[skill] = 1\n",
    "\n",
    "uniq_skills = dict(reversed(sorted(all_skills.items(), key=lambda item: item[1])))\n",
    "\n",
    "print(len(uniq_skills.keys()))\n",
    "fileName = f\"./uniq_skills.json\"\n",
    "f = open(fileName, mode='w', encoding='utf8')\n",
    "f.write(json.dumps(uniq_skills, ensure_ascii=False))\n",
    "f.close()"
   ]
  },
  {
   "cell_type": "code",
   "execution_count": null,
   "metadata": {},
   "outputs": [],
   "source": [
    "filtered = dict((k, v) for k, v in uniq_skills.items() if v > 1)\n",
    "fileName = f\"./filtered_uniq_skills.json\"\n",
    "f = open(fileName, mode='w', encoding='utf8')\n",
    "f.write(json.dumps(filtered, ensure_ascii=False))\n",
    "f.close()"
   ]
  }
 ],
 "metadata": {
  "kernelspec": {
   "display_name": "Python 3",
   "language": "python",
   "name": "python3"
  },
  "language_info": {
   "codemirror_mode": {
    "name": "ipython",
    "version": 3
   },
   "file_extension": ".py",
   "mimetype": "text/x-python",
   "name": "python",
   "nbconvert_exporter": "python",
   "pygments_lexer": "ipython3",
   "version": "3.8.2"
  }
 },
 "nbformat": 4,
 "nbformat_minor": 4
}