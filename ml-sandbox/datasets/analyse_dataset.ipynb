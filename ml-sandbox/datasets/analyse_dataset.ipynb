{
 "cells": [
  {
   "cell_type": "code",
   "execution_count": 10,
   "metadata": {},
   "outputs": [],
   "source": [
    "import os\n",
    "import json\n",
    "import pandas as pd\n",
    "import collections\n",
    "import matplotlib.pyplot as plt\n",
    "pd.options.display.max_rows = 7\n",
    "plt.style.use('ggplot')\n",
    "plt.rcParams['figure.figsize'] = (15, 3)\n",
    "plt.rcParams['font.family'] = 'sans-serif'"
   ]
  },
  {
   "cell_type": "code",
   "execution_count": 11,
   "metadata": {},
   "outputs": [
    {
     "name": "stdout",
     "output_type": "stream",
     "text": [
      "Количество резюме: 4544\n"
     ]
    }
   ],
   "source": [
    "f = open(f\"./resumes.json\", encoding=\"utf8\")\n",
    "jsonText = f.read()\n",
    "f.close()\n",
    "resumes = json.loads(jsonText)\n",
    "\n",
    "def flatten(d, parent_key='', sep='_'):\n",
    "    items = []\n",
    "    for k, v in d.items():\n",
    "        new_key = parent_key + sep + k if parent_key else k\n",
    "        if isinstance(v, collections.MutableMapping):\n",
    "            items.extend(flatten(v, new_key, sep=sep).items())\n",
    "        else:\n",
    "            items.append((new_key, v))\n",
    "    return dict(items)\n",
    "\n",
    "flatten_resumes = []\n",
    "\n",
    "for key in resumes.keys():\n",
    "    resume = flatten(resumes[key])\n",
    "    resume['id'] = key\n",
    "    flatten_resumes.append(resume)\n",
    "\n",
    "\n",
    "fileName = f\"./flatten_resumes.json\"\n",
    "f = open(fileName, mode='w', encoding='utf8')\n",
    "f.write(json.dumps(flatten_resumes, ensure_ascii=False))\n",
    "f.close()\n",
    "print(f\"Количество резюме: {len(resumes.keys())}\")"
   ]
  },
  {
   "cell_type": "code",
   "execution_count": 12,
   "metadata": {},
   "outputs": [
    {
     "data": {
      "text/plain": "        salary_amount\ncount     2397.000000\nmean     97340.595745\nstd      80597.502605\n...               ...\n98%     350000.000000\n99%     400000.000000\nmax    1000000.000000\n\n[20 rows x 1 columns]",
      "text/html": "<div>\n<style scoped>\n    .dataframe tbody tr th:only-of-type {\n        vertical-align: middle;\n    }\n\n    .dataframe tbody tr th {\n        vertical-align: top;\n    }\n\n    .dataframe thead th {\n        text-align: right;\n    }\n</style>\n<table border=\"1\" class=\"dataframe\">\n  <thead>\n    <tr style=\"text-align: right;\">\n      <th></th>\n      <th>salary_amount</th>\n    </tr>\n  </thead>\n  <tbody>\n    <tr>\n      <th>count</th>\n      <td>2397.000000</td>\n    </tr>\n    <tr>\n      <th>mean</th>\n      <td>97340.595745</td>\n    </tr>\n    <tr>\n      <th>std</th>\n      <td>80597.502605</td>\n    </tr>\n    <tr>\n      <th>...</th>\n      <td>...</td>\n    </tr>\n    <tr>\n      <th>98%</th>\n      <td>350000.000000</td>\n    </tr>\n    <tr>\n      <th>99%</th>\n      <td>400000.000000</td>\n    </tr>\n    <tr>\n      <th>max</th>\n      <td>1000000.000000</td>\n    </tr>\n  </tbody>\n</table>\n<p>20 rows × 1 columns</p>\n</div>"
     },
     "execution_count": 12,
     "metadata": {},
     "output_type": "execute_result"
    }
   ],
   "source": [
    "df = pd.DataFrame(flatten_resumes)\n",
    "df.describe(percentiles=[\n",
    "    0.1,\n",
    "    0.2,\n",
    "    0.3,\n",
    "    0.4,\n",
    "    0.5,\n",
    "    0.6,\n",
    "    0.7,\n",
    "    0.8,\n",
    "    0.85,\n",
    "    0.9,\n",
    "    0.95,\n",
    "    0.96,\n",
    "    0.97,\n",
    "    0.98,\n",
    "    0.99,\n",
    "])"
   ]
  },
  {
   "cell_type": "code",
   "execution_count": 13,
   "metadata": {},
   "outputs": [
    {
     "name": "stdout",
     "output_type": "stream",
     "text": [
      "<class 'pandas.core.frame.DataFrame'>\n",
      "RangeIndex: 4544 entries, 0 to 4543\n",
      "Data columns (total 14 columns):\n",
      " #   Column           Non-Null Count  Dtype  \n",
      "---  ------           --------------  -----  \n",
      " 0   birth_date       4274 non-null   object \n",
      " 1   gender           4544 non-null   object \n",
      " 2   area             4544 non-null   object \n",
      " 3   title            4544 non-null   object \n",
      " 4   specialization   4544 non-null   object \n",
      " 5   salary_amount    2397 non-null   float64\n",
      " 6   salary_currency  2397 non-null   object \n",
      " 7   education_level  4544 non-null   object \n",
      " 8   education        4544 non-null   object \n",
      " 9   language         4544 non-null   object \n",
      " 10  experience       4544 non-null   object \n",
      " 11  skill_set        4544 non-null   object \n",
      " 12  skills           4544 non-null   object \n",
      " 13  id               4544 non-null   object \n",
      "dtypes: float64(1), object(13)\n",
      "memory usage: 266.3+ KB\n"
     ]
    },
    {
     "data": {
      "text/plain": "<AxesSubplot:title={'center':'salary_amount'}>"
     },
     "execution_count": 13,
     "metadata": {},
     "output_type": "execute_result"
    },
    {
     "data": {
      "text/plain": "<Figure size 1080x216 with 1 Axes>",
      "image/png": "[encoded data removed]"
     },
     "metadata": {},
     "output_type": "display_data"
    }
   ],
   "source": [
    "df.info()\n",
    "df.hist()\n",
    "df.boxplot()"
   ]
  },
  {
   "cell_type": "code",
   "execution_count": 13,
   "metadata": {},
   "outputs": [],
   "source": []
  },
  {
   "cell_type": "code",
   "execution_count": 13,
   "metadata": {},
   "outputs": [],
   "source": []
  }
 ],
 "metadata": {
  "kernelspec": {
   "display_name": "Python 3",
   "language": "python",
   "name": "python3"
  },
  "language_info": {
   "codemirror_mode": {
    "name": "ipython",
    "version": 3
   },
   "file_extension": ".py",
   "mimetype": "text/x-python",
   "name": "python",
   "nbconvert_exporter": "python",
   "pygments_lexer": "ipython3",
   "version": "3.9.0"
  }
 },
 "nbformat": 4,
 "nbformat_minor": 4
}