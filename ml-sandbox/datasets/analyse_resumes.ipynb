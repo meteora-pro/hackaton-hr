{
 "cells": [
  {
   "cell_type": "code",
   "execution_count": 11,
   "metadata": {
    "collapsed": true
   },
   "outputs": [
    {
     "data": {
      "text/plain": "array(['Высшее образование', 'Higher education',\n       'Среднее специальное образование', 'Высшее образование (Бакалавр)',\n       'Неоконченное высшее образование', 'Высшее образование (Магистр)',\n       'Среднее образование', 'Higher education (master)', 'Образование',\n       'Высшее образование (Кандидат наук)',\n       'Incomplete higher education', 'Secondary education',\n       'Higher education (bachelor)', 'Education',\n       'Higher education (Candidate of Science)',\n       'Высшее образование (Доктор наук)', 'Secondary special education'],\n      dtype=object)"
     },
     "execution_count": 11,
     "metadata": {},
     "output_type": "execute_result"
    }
   ],
   "source": [
    "import json\n",
    "from functools import reduce\n",
    "import operator\n",
    "import pandas as pd\n",
    "f = open(f\"./flatten_resumes.json\", encoding=\"utf8\")\n",
    "jsonText = f.read()\n",
    "f.close()\n",
    "flatten_resumes = json.loads(jsonText)\n",
    "education_levels = set()\n",
    "\n",
    "df = pd.DataFrame(flatten_resumes)\n",
    "\n",
    "df.education_level.unique()"
   ]
  },
  {
   "cell_type": "code",
   "execution_count": 12,
   "outputs": [
    {
     "name": "stdout",
     "output_type": "stream",
     "text": [
      "['B1 - Средний', 'B1 - Intermediate', 'B2 - Upper Intermediate', 'A1 - Basic', 'Native', 'A2 - Элементарный', 'C1 - Продвинутый', 'A2 - Elementary', 'C2 - В совершенстве', 'B2 - Средне-продвинутый', 'A1 - Начальный', 'Родной', 'C2 - Proficiency', 'C1 - Advanced']\n"
     ]
    }
   ],
   "source": [
    "df.gender.unique()\n",
    "\n",
    "data = reduce(operator.concat,list(df.language))\n",
    "languages = set(map(lambda data: data['level'], data))\n",
    "\n",
    "print(list(languages))"
   ],
   "metadata": {
    "collapsed": false,
    "pycharm": {
     "name": "#%%\n"
    }
   }
  },
  {
   "cell_type": "code",
   "execution_count": 13,
   "outputs": [
    {
     "data": {
      "text/plain": "array(['руб.', None, 'USD', 'RUB', 'EUR', 'бел. руб.', 'KZT', 'грн.'],\n      dtype=object)"
     },
     "execution_count": 13,
     "metadata": {},
     "output_type": "execute_result"
    }
   ],
   "source": [
    "df.salary_currency.unique()"
   ],
   "metadata": {
    "collapsed": false,
    "pycharm": {
     "name": "#%%\n"
    }
   }
  }
 ],
 "metadata": {
  "kernelspec": {
   "display_name": "Python 3",
   "language": "python",
   "name": "python3"
  },
  "language_info": {
   "codemirror_mode": {
    "name": "ipython",
    "version": 2
   },
   "file_extension": ".py",
   "mimetype": "text/x-python",
   "name": "python",
   "nbconvert_exporter": "python",
   "pygments_lexer": "ipython2",
   "version": "2.7.6"
  }
 },
 "nbformat": 4,
 "nbformat_minor": 0
}