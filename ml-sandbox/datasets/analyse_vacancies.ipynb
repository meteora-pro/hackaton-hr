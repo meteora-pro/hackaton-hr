{
 "cells": [
  {
   "cell_type": "code",
   "execution_count": 52,
   "metadata": {
    "collapsed": true,
    "pycharm": {
     "name": "#%%\n"
    }
   },
   "outputs": [],
   "source": [
    "import json\n",
    "from functools import reduce\n",
    "import operator\n",
    "import pandas as pd\n",
    "f = open(f\"./vacancies.json\", encoding=\"utf8\")\n",
    "jsonText = f.read()\n",
    "f.close()\n",
    "vacancies = json.loads(jsonText)\n",
    "education_levels = set()\n",
    "flatten_vacations = list(vacancies.values())\n",
    "df = pd.DataFrame(flatten_vacations)\n"
   ]
  },
  {
   "cell_type": "code",
   "execution_count": 53,
   "outputs": [
    {
     "name": "stdout",
     "output_type": "stream",
     "text": [
      "{'between1And3', 'between3And6', 'moreThan6', 'noExperience'}\n"
     ]
    }
   ],
   "source": [
    "list_experiances = list(df.experience)\n",
    "uniques_experiance_types = set()\n",
    "for data in list_experiances:\n",
    "  if isinstance(data, dict):\n",
    "    uniques_experiance_types.add(data['id'])\n",
    "\n",
    "print(uniques_experiance_types)"
   ],
   "metadata": {
    "collapsed": false,
    "pycharm": {
     "name": "#%%\n"
    }
   }
  },
  {
   "cell_type": "code",
   "execution_count": 54,
   "outputs": [],
   "source": [
    "# experiances = set(map(lambda data: data['id'], list(df.experience)))"
   ],
   "metadata": {
    "collapsed": false,
    "pycharm": {
     "name": "#%%\n"
    }
   }
  }
 ],
 "metadata": {
  "kernelspec": {
   "display_name": "Python 3",
   "language": "python",
   "name": "python3"
  },
  "language_info": {
   "codemirror_mode": {
    "name": "ipython",
    "version": 2
   },
   "file_extension": ".py",
   "mimetype": "text/x-python",
   "name": "python",
   "nbconvert_exporter": "python",
   "pygments_lexer": "ipython2",
   "version": "2.7.6"
  }
 },
 "nbformat": 4,
 "nbformat_minor": 0
}